{
 "cells": [
  {
   "cell_type": "code",
   "execution_count": 1,
   "id": "5d9782b9",
   "metadata": {},
   "outputs": [
    {
     "name": "stdout",
     "output_type": "stream",
     "text": [
      "working on python is getting interesting \n"
     ]
    }
   ],
   "source": [
    "print(\"working on python is getting interesting \")"
   ]
  },
  {
   "cell_type": "code",
   "execution_count": 2,
   "id": "697d6d30",
   "metadata": {},
   "outputs": [
    {
     "name": "stdout",
     "output_type": "stream",
     "text": [
      "I AM OGILI MARYANN UCHENNA MRS\n"
     ]
    }
   ],
   "source": [
    "print(\"I AM OGILI MARYANN UCHENNA MRS\")"
   ]
  },
  {
   "cell_type": "code",
   "execution_count": null,
   "id": "6e3e0d30",
   "metadata": {},
   "outputs": [],
   "source": []
  }
 ],
 "metadata": {
  "kernelspec": {
   "display_name": "Python 3 (ipykernel)",
   "language": "python",
   "name": "python3"
  },
  "language_info": {
   "codemirror_mode": {
    "name": "ipython",
    "version": 3
   },
   "file_extension": ".py",
   "mimetype": "text/x-python",
   "name": "python",
   "nbconvert_exporter": "python",
   "pygments_lexer": "ipython3",
   "version": "3.9.13"
  }
 },
 "nbformat": 4,
 "nbformat_minor": 5
}
